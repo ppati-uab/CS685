{
  "nbformat": 4,
  "nbformat_minor": 0,
  "metadata": {
    "colab": {
      "name": "run_1.ipynb",
      "provenance": [],
      "collapsed_sections": [
        "3Ikovuu95Qwa",
        "bAdHJKgd5Qwf",
        "17A7WisE5Qwr",
        "N5hdtuO55Qwt"
      ],
      "include_colab_link": true
    },
    "kernelspec": {
      "display_name": "Python 3",
      "language": "python",
      "name": "python3"
    },
    "language_info": {
      "codemirror_mode": {
        "name": "ipython",
        "version": 3
      },
      "file_extension": ".py",
      "mimetype": "text/x-python",
      "name": "python",
      "nbconvert_exporter": "python",
      "pygments_lexer": "ipython3",
      "version": "3.7.9"
    }
  },
  "cells": [
    {
      "cell_type": "markdown",
      "metadata": {
        "id": "view-in-github",
        "colab_type": "text"
      },
      "source": [
        "<a href=\"https://colab.research.google.com/github/ppati-uab/CS685/blob/main/run_1.ipynb\" target=\"_parent\"><img src=\"https://colab.research.google.com/assets/colab-badge.svg\" alt=\"Open In Colab\"/></a>"
      ]
    },
    {
      "cell_type": "markdown",
      "metadata": {
        "id": "Wl23gxYe5Qvm"
      },
      "source": [
        "# Adversarial Attacks on ConvNets\n",
        "\n",
        "Ref: https://github.com/gongzhitaao/tensorflow-adversarial"
      ]
    },
    {
      "cell_type": "code",
      "metadata": {
        "colab": {
          "base_uri": "https://localhost:8080/",
          "height": 17
        },
        "id": "xzZ_szEM5Qvu",
        "outputId": "0c51fc36-4e3a-42b3-a355-fac4d46ff14c"
      },
      "source": [
        "%%javascript\n",
        "IPython.notebook.clear_all_output();"
      ],
      "execution_count": null,
      "outputs": [
        {
          "output_type": "display_data",
          "data": {
            "application/javascript": [
              "IPython.notebook.clear_all_output();"
            ],
            "text/plain": [
              "<IPython.core.display.Javascript object>"
            ]
          },
          "metadata": {
            "tags": []
          }
        }
      ]
    },
    {
      "cell_type": "markdown",
      "metadata": {
        "id": "DfGibyCd5Qvx"
      },
      "source": [
        "## Step 1: Data Preparation"
      ]
    },
    {
      "cell_type": "code",
      "metadata": {
        "id": "2-4m8i6QckMW"
      },
      "source": [
        ""
      ],
      "execution_count": null,
      "outputs": []
    },
    {
      "cell_type": "code",
      "metadata": {
        "id": "LjJZihhu5Qvx"
      },
      "source": [
        "import os\n",
        "import matplotlib.pyplot as plt\n",
        "%matplotlib inline\n",
        "#The line above is necesary to show Matplotlib's plots inside a Jupyter Notebook\n",
        "\n",
        "import numpy as np\n",
        "import tensorflow as tf\n",
        "\n",
        "img_size = 28 # images to DL models are of size 28 x 28\n",
        "img_chan = 1 # the channel dimension, = 1 since the MNIST dataset is grayscale\n",
        "n_classes = 10 # classes are the 10 digits"
      ],
      "execution_count": null,
      "outputs": []
    },
    {
      "cell_type": "markdown",
      "metadata": {
        "id": "720Wana25Qvy"
      },
      "source": [
        "Load the MNIST dataset, the \"hello world\" dataset for deep learning"
      ]
    },
    {
      "cell_type": "code",
      "metadata": {
        "colab": {
          "base_uri": "https://localhost:8080/",
          "height": 332
        },
        "id": "V82UbnKh5Qvz",
        "outputId": "e1f2b3d3-c143-4559-a155-cafd803dfb23"
      },
      "source": [
        "mnist = tf.keras.datasets.mnist\n",
        "(X_train, y_train), (X_test, y_test) = mnist.load_data()\n",
        "print('|X_train|:', X_train.shape)\n",
        "print('|y_train|:', y_train.shape)\n",
        "print('|X_test|:', X_test.shape)\n",
        "print('|y_test|:', y_test.shape)\n",
        "\n",
        "#Show the 1st training image with matplotlib\n",
        "plt.imshow(X_train[0])\n",
        "plt.show()"
      ],
      "execution_count": null,
      "outputs": [
        {
          "output_type": "stream",
          "text": [
            "|X_train|: (60000, 28, 28)\n",
            "|y_train|: (60000,)\n",
            "|X_test|: (10000, 28, 28)\n",
            "|y_test|: (10000,)\n"
          ],
          "name": "stdout"
        },
        {
          "output_type": "display_data",
          "data": {
            "image/png": "[encoded data removed]",
            "text/plain": [
              "<Figure size 432x288 with 1 Axes>"
            ]
          },
          "metadata": {
            "tags": [],
            "needs_background": "light"
          }
        }
      ]
    },
    {
      "cell_type": "markdown",
      "metadata": {
        "id": "X8qpwfCa5Qv0"
      },
      "source": [
        "Add the channel dimension to be TensorFlow-compatible; normalize pixel to be within [0, 1]"
      ]
    },
    {
      "cell_type": "code",
      "metadata": {
        "colab": {
          "base_uri": "https://localhost:8080/"
        },
        "id": "peVDSDGR5Qv0",
        "outputId": "6a25bf22-cc12-485b-f0a2-75d9d9a8333d"
      },
      "source": [
        "X_train = np.reshape(X_train, [-1, img_size, img_size, img_chan])\n",
        "X_train = X_train.astype(np.float32) / 255\n",
        "X_test = np.reshape(X_test, [-1, img_size, img_size, img_chan])\n",
        "X_test = X_test.astype(np.float32) / 255\n",
        "\n",
        "print('|X_train|:', X_train.shape)\n",
        "print('|X_test|:', X_test.shape)"
      ],
      "execution_count": null,
      "outputs": [
        {
          "output_type": "stream",
          "text": [
            "|X_train|: (60000, 28, 28, 1)\n",
            "|X_test|: (10000, 28, 28, 1)\n"
          ],
          "name": "stdout"
        }
      ]
    },
    {
      "cell_type": "markdown",
      "metadata": {
        "id": "2dEhrqAu5Qv1"
      },
      "source": [
        "One-hot encoding the labels to be TensorFlow-compatible:"
      ]
    },
    {
      "cell_type": "code",
      "metadata": {
        "colab": {
          "base_uri": "https://localhost:8080/"
        },
        "id": "pb_GBQAr5Qv2",
        "outputId": "c8853ec0-fa24-4869-b307-bd68a984814b"
      },
      "source": [
        "to_categorical = tf.keras.utils.to_categorical\n",
        "y_train = to_categorical(y_train)\n",
        "y_test = to_categorical(y_test)\n",
        "\n",
        "print('|y_train|:', y_train.shape)\n",
        "print('|y_test|:', y_test.shape)"
      ],
      "execution_count": null,
      "outputs": [
        {
          "output_type": "stream",
          "text": [
            "|y_train|: (60000, 10)\n",
            "|y_test|: (10000, 10)\n"
          ],
          "name": "stdout"
        }
      ]
    },
    {
      "cell_type": "code",
      "metadata": {
        "colab": {
          "base_uri": "https://localhost:8080/"
        },
        "id": "j6ktl55J5Qv2",
        "outputId": "6f4ad832-8e8e-444a-9e78-400858d4be3c"
      },
      "source": [
        "print(y_test[0]) # see the one-hot encoding of the label of the 1st test data"
      ],
      "execution_count": null,
      "outputs": [
        {
          "output_type": "stream",
          "text": [
            "[0. 0. 0. 0. 0. 0. 0. 1. 0. 0.]\n"
          ],
          "name": "stdout"
        }
      ]
    },
    {
      "cell_type": "markdown",
      "metadata": {
        "id": "LjbTjWWx5Qv3"
      },
      "source": [
        "Shuffle the training dataset:"
      ]
    },
    {
      "cell_type": "code",
      "metadata": {
        "id": "nKYhs42L5Qv4"
      },
      "source": [
        "num_train = X_train.shape[0]\n",
        "\n",
        "ind = np.random.permutation(num_train)\n",
        "X_train, y_train = X_train[ind], y_train[ind]"
      ],
      "execution_count": null,
      "outputs": []
    },
    {
      "cell_type": "markdown",
      "metadata": {
        "id": "UPWneZhc5Qv4"
      },
      "source": [
        "Splitting the training dataset into `training` and `validation` datasets"
      ]
    },
    {
      "cell_type": "code",
      "metadata": {
        "colab": {
          "base_uri": "https://localhost:8080/"
        },
        "id": "fiWkhT2v5Qv5",
        "outputId": "8bad83dd-03ef-4fc3-93b5-a5609d6e6808"
      },
      "source": [
        "VALIDATION_SPLIT = 0.1 # hold out 10% training data for validation\n",
        "n = int(num_train * (1-VALIDATION_SPLIT)) # splitting index\n",
        "\n",
        "# take validation data objects first, as training data will change later\n",
        "X_valid = X_train[n:]\n",
        "y_valid = y_train[n:]\n",
        "\n",
        "X_train = X_train[:n]\n",
        "y_train = y_train[:n]\n",
        "\n",
        "print('|X_train|:', X_train.shape)\n",
        "print('|y_train|:', y_train.shape)\n",
        "print('|X_valid|:', X_valid.shape)\n",
        "print('|y_valid|:', y_valid.shape)"
      ],
      "execution_count": null,
      "outputs": [
        {
          "output_type": "stream",
          "text": [
            "|X_train|: (54000, 28, 28, 1)\n",
            "|y_train|: (54000, 10)\n",
            "|X_valid|: (6000, 28, 28, 1)\n",
            "|y_valid|: (6000, 10)\n"
          ],
          "name": "stdout"
        }
      ]
    },
    {
      "cell_type": "markdown",
      "metadata": {
        "id": "N-PHbIP25Qv6"
      },
      "source": [
        "## Step 2: Construct Compuational Graph"
      ]
    },
    {
      "cell_type": "markdown",
      "metadata": {
        "id": "lMwHl0PE5Qv6"
      },
      "source": [
        "`tf.variable_scope` defines a prefix for the operations and variables defined within the scope.\n",
        "\n",
        "You have to use `tf.variable_scope` if you want to create a variable with the same name of another variable but in a different scope."
      ]
    },
    {
      "cell_type": "markdown",
      "metadata": {
        "id": "xP9pt_bB5Qv7"
      },
      "source": [
        "We will use functions in `tf.layers` such as `conv2d`, `max_pooling2d`, `dense` and `dropout` to define our model, see https://www.tensorflow.org/api_docs/python/tf/layers for a full list.\n",
        "\n",
        "We will use functions in `tf.nn` such as `softmax` to define our model, see https://www.tensorflow.org/api_docs/python/tf/nn for a full list."
      ]
    },
    {
      "cell_type": "code",
      "metadata": {
        "id": "H_x3AehC5Qv9"
      },
      "source": [
        "def model(x, logits=False, training=False):\n",
        "# logits: whether to return logits\n",
        "    with tf.variable_scope('conv0'):\n",
        "        z = tf.layers.conv2d(x, filters=32, kernel_size=[3, 3],\n",
        "                             padding='same', activation=tf.nn.relu)\n",
        "        z = tf.layers.max_pooling2d(z, pool_size=[2, 2], strides=2)\n",
        "\n",
        "    with tf.variable_scope('conv1'):\n",
        "        z = tf.layers.conv2d(z, filters=64, kernel_size=[3, 3],\n",
        "                             padding='same', activation=tf.nn.relu)\n",
        "        z = tf.layers.max_pooling2d(z, pool_size=[2, 2], strides=2)\n",
        "\n",
        "    with tf.variable_scope('flatten'):\n",
        "        shape = z.get_shape().as_list()\n",
        "        # tf.Tensor.get_shape() is a member function of TensorFlow Tensor.\n",
        "        # The shape information inferred by it may be incomplete.\n",
        "        # Recommended Readings:\n",
        "        # http://www.heyuhang.com/blog/2018/07/14/tensorflow-get-shape-vs-tf-dot-shape/\n",
        "        z = tf.reshape(z, [-1, np.prod(shape[1:])])\n",
        "\n",
        "    with tf.variable_scope('mlp'):\n",
        "        z = tf.layers.dense(z, units=128, activation=tf.nn.relu)\n",
        "        # dropout has two mode: training and testing\n",
        "        z = tf.layers.dropout(z, rate=0.25, training=training)\n",
        "\n",
        "    logits_ = tf.layers.dense(z, units=10, name='logits')\n",
        "    y = tf.nn.softmax(logits_, name='ybar')\n",
        "\n",
        "    if logits: return y, logits_\n",
        "    else: return y"
      ],
      "execution_count": null,
      "outputs": []
    },
    {
      "cell_type": "markdown",
      "metadata": {
        "id": "3XP3w7Sa5Qv-"
      },
      "source": [
        "**This is the input (i.e., function object) to our attacking functions later !!!**"
      ]
    },
    {
      "cell_type": "markdown",
      "metadata": {
        "id": "ChnjLN5-5Qv_"
      },
      "source": [
        "Question: Please list the layers in the model.\n",
        "\n",
        "**[Your Answer Here]**\n",
        "\n",
        "Convolution layer\n",
        "\n",
        "Maxpooling layer\n",
        "\n",
        "Convolution layer\n",
        "\n",
        "maxpooling layer\n",
        "\n",
        "Flatten layer\n",
        "\n",
        "Dense layer\n",
        "\n",
        "Dropout layer\n",
        "\n",
        "Dense layer\n",
        "\n",
        "There is a softmax layer"
      ]
    },
    {
      "cell_type": "markdown",
      "metadata": {
        "id": "ggUo_3eR5Qv_"
      },
      "source": [
        "Create an environment variable to carry variables in its fields.\n",
        "\n",
        "For this, we need to create a dummy class as the type of the environment variable."
      ]
    },
    {
      "cell_type": "code",
      "metadata": {
        "id": "NHVx3Jz45QwA"
      },
      "source": [
        "class Environment:\n",
        "    pass # a class with no methods (yet)\n",
        "\n",
        "env = Environment() # this is the GLOBAL environment variable"
      ],
      "execution_count": null,
      "outputs": []
    },
    {
      "cell_type": "markdown",
      "metadata": {
        "id": "mhgZ2eF05QwB"
      },
      "source": [
        "Define model data-inputs (images, labels), which will be provided using argument `feed_dict` to `session.run(.)`.\n",
        "\n",
        "Define model outputs (accuracy, loss, optimizer), which will be returned by `session.run(.)`."
      ]
    },
    {
      "cell_type": "code",
      "metadata": {
        "id": "P9Qkr1Fu5QwC",
        "colab": {
          "base_uri": "https://localhost:8080/"
        },
        "outputId": "55bf23a0-019f-41cb-db97-d152e7c2ed9b"
      },
      "source": [
        "!pip install tensorflow==1.12.0"
      ],
      "execution_count": null,
      "outputs": [
        {
          "output_type": "stream",
          "text": [
            "Requirement already satisfied: tensorflow==1.12.0 in /usr/local/lib/python3.6/dist-packages (1.12.0)\n",
            "Requirement already satisfied: keras-preprocessing>=1.0.5 in /usr/local/lib/python3.6/dist-packages (from tensorflow==1.12.0) (1.1.2)\n",
            "Requirement already satisfied: keras-applications>=1.0.6 in /usr/local/lib/python3.6/dist-packages (from tensorflow==1.12.0) (1.0.8)\n",
            "Requirement already satisfied: six>=1.10.0 in /usr/local/lib/python3.6/dist-packages (from tensorflow==1.12.0) (1.15.0)\n",
            "Requirement already satisfied: numpy>=1.13.3 in /usr/local/lib/python3.6/dist-packages (from tensorflow==1.12.0) (1.19.5)\n",
            "Requirement already satisfied: astor>=0.6.0 in /usr/local/lib/python3.6/dist-packages (from tensorflow==1.12.0) (0.8.1)\n",
            "Requirement already satisfied: termcolor>=1.1.0 in /usr/local/lib/python3.6/dist-packages (from tensorflow==1.12.0) (1.1.0)\n",
            "Requirement already satisfied: grpcio>=1.8.6 in /usr/local/lib/python3.6/dist-packages (from tensorflow==1.12.0) (1.32.0)\n",
            "Requirement already satisfied: gast>=0.2.0 in /usr/local/lib/python3.6/dist-packages (from tensorflow==1.12.0) (0.3.3)\n",
            "Requirement already satisfied: tensorboard<1.13.0,>=1.12.0 in /usr/local/lib/python3.6/dist-packages (from tensorflow==1.12.0) (1.12.2)\n",
            "Requirement already satisfied: protobuf>=3.6.1 in /usr/local/lib/python3.6/dist-packages (from tensorflow==1.12.0) (3.12.4)\n",
            "Requirement already satisfied: absl-py>=0.1.6 in /usr/local/lib/python3.6/dist-packages (from tensorflow==1.12.0) (0.10.0)\n",
            "Requirement already satisfied: wheel>=0.26 in /usr/local/lib/python3.6/dist-packages (from tensorflow==1.12.0) (0.36.2)\n",
            "Requirement already satisfied: h5py in /usr/local/lib/python3.6/dist-packages (from keras-applications>=1.0.6->tensorflow==1.12.0) (2.10.0)\n",
            "Requirement already satisfied: markdown>=2.6.8 in /usr/local/lib/python3.6/dist-packages (from tensorboard<1.13.0,>=1.12.0->tensorflow==1.12.0) (3.3.3)\n",
            "Requirement already satisfied: werkzeug>=0.11.10 in /usr/local/lib/python3.6/dist-packages (from tensorboard<1.13.0,>=1.12.0->tensorflow==1.12.0) (1.0.1)\n",
            "Requirement already satisfied: setuptools in /usr/local/lib/python3.6/dist-packages (from protobuf>=3.6.1->tensorflow==1.12.0) (53.0.0)\n",
            "Requirement already satisfied: importlib-metadata; python_version < \"3.8\" in /usr/local/lib/python3.6/dist-packages (from markdown>=2.6.8->tensorboard<1.13.0,>=1.12.0->tensorflow==1.12.0) (3.4.0)\n",
            "Requirement already satisfied: zipp>=0.5 in /usr/local/lib/python3.6/dist-packages (from importlib-metadata; python_version < \"3.8\"->markdown>=2.6.8->tensorboard<1.13.0,>=1.12.0->tensorflow==1.12.0) (3.4.0)\n",
            "Requirement already satisfied: typing-extensions>=3.6.4; python_version < \"3.8\" in /usr/local/lib/python3.6/dist-packages (from importlib-metadata; python_version < \"3.8\"->markdown>=2.6.8->tensorboard<1.13.0,>=1.12.0->tensorflow==1.12.0) (3.7.4.3)\n"
          ],
          "name": "stdout"
        }
      ]
    },
    {
      "cell_type": "code",
      "metadata": {
        "colab": {
          "base_uri": "https://localhost:8080/"
        },
        "id": "y4gXejvE6hnF",
        "outputId": "f94d25b7-7948-47fd-c6db-0440e9973000"
      },
      "source": [
        "import tensorflow as tf\n",
        "print(tf.__version__)"
      ],
      "execution_count": null,
      "outputs": [
        {
          "output_type": "stream",
          "text": [
            "1.12.0\n"
          ],
          "name": "stdout"
        }
      ]
    },
    {
      "cell_type": "code",
      "metadata": {
        "colab": {
          "base_uri": "https://localhost:8080/"
        },
        "id": "4gtq8hIo5QwD",
        "outputId": "b16d9aef-d50f-454e-d3c7-c3f186e75708"
      },
      "source": [
        "with tf.variable_scope('model'):\n",
        "    # INPUTS to the model\n",
        "    env.x = tf.placeholder(tf.float32, (None, img_size, img_size, img_chan), name='x')\n",
        "    # 'None' means the number of training data will be determined when session.run(.) is called\n",
        "    env.y = tf.placeholder(tf.float32, (None, n_classes), name='y')\n",
        "    env.training = tf.placeholder_with_default(False, (), name='mode')\n",
        "    # 'False' is the default value used if the value of env.training is not provided to session.run(.)\n",
        "    # '()' means the placeholder is a constant (0-dimensional)\n",
        "    # note that 1-dimensional object is an array\n",
        "\n",
        "    # call our defined model to get its outputs\n",
        "    env.ybar, logits = model(env.x, logits=True, training=env.training)\n",
        "\n",
        "    # OUTPUT 1: accuracy to be returned by session.run(.)\n",
        "    with tf.variable_scope('acc'):\n",
        "        # Check https://www.tensorflow.org/api_docs/python/tf/math/argmax\n",
        "        count = tf.equal(tf.argmax(env.y, axis=1), tf.argmax(env.ybar, axis=1))\n",
        "        # Check https://www.tensorflow.org/api_docs/python/tf/dtypes/cast\n",
        "        # and https://www.tensorflow.org/api_docs/python/tf/math/reduce_mean\n",
        "        env.acc = tf.reduce_mean(tf.cast(count, tf.float32), name='acc')\n",
        "    \n",
        "    # OUTPUT 2: loss to be returned by session.run(.)\n",
        "    with tf.variable_scope('loss'):\n",
        "        # cross_entropy_loss over softmax_logits\n",
        "        xent = tf.nn.softmax_cross_entropy_with_logits(labels=env.y,\n",
        "                                                       logits=logits)\n",
        "        # average over all data samples\n",
        "        env.loss = tf.reduce_mean(xent, name='loss')\n",
        "    \n",
        "    # Define optimizer over loss\n",
        "    with tf.variable_scope('train_op'):\n",
        "        optimizer = tf.train.AdamOptimizer()\n",
        "        env.train_op = optimizer.minimize(env.loss)\n",
        "\n",
        "    # dependency for training:\n",
        "    # train_op ----<backprop>---- loss ----<fwd_model>---- inputs\n",
        "    \n",
        "    # dependency for testing:\n",
        "    # inputs ----<fwd_model>----> loss"
      ],
      "execution_count": null,
      "outputs": [
        {
          "output_type": "stream",
          "text": [
            "WARNING:tensorflow:From <ipython-input-17-d14b6e3ad270>:26: softmax_cross_entropy_with_logits (from tensorflow.python.ops.nn_ops) is deprecated and will be removed in a future version.\n",
            "Instructions for updating:\n",
            "\n",
            "Future major versions of TensorFlow will allow gradients to flow\n",
            "into the labels input on backprop by default.\n",
            "\n",
            "See `tf.nn.softmax_cross_entropy_with_logits_v2`.\n",
            "\n"
          ],
          "name": "stdout"
        }
      ]
    },
    {
      "cell_type": "markdown",
      "metadata": {
        "id": "oWkWnnZF5QwE"
      },
      "source": [
        "**Think:** Refer back to course slides and try to comprehend what `optimizer.minimize(.)` here does and returns; for example, it handles `tf.gradient(.)` and weight parameter update by `tf.reassign(.)`."
      ]
    },
    {
      "cell_type": "markdown",
      "metadata": {
        "id": "FDe5No7f5QwF"
      },
      "source": [
        "Define model job-configuration-inputs (eps, epochs, targeted_label), which will be provided using argument `feed_dict` to `session.run(.)`."
      ]
    },
    {
      "cell_type": "code",
      "metadata": {
        "id": "kqsLRWKb5QwF"
      },
      "source": [
        "with tf.variable_scope('model', reuse=True): # reuse the above defined var-scope\n",
        "    # adv means adversarial\n",
        "    env.adv_eps = tf.placeholder(tf.float32, (), name='adv_eps')\n",
        "    env.adv_epochs = tf.placeholder(tf.int32, (), name='adv_epochs')\n",
        "    env.adv_y = tf.placeholder(tf.int32, (), name='adv_y')"
      ],
      "execution_count": null,
      "outputs": []
    },
    {
      "cell_type": "markdown",
      "metadata": {
        "id": "QUJVPXEB5QwG"
      },
      "source": [
        "## Step 3: Training Our DL Model"
      ]
    },
    {
      "cell_type": "markdown",
      "metadata": {
        "id": "X4PxiTWD5QwG"
      },
      "source": [
        "Initialize computational graph:\n",
        "\n",
        "Note: this must be done after computational graph is constructed, so that all variables are properly initialized."
      ]
    },
    {
      "cell_type": "code",
      "metadata": {
        "id": "IqEwOQ2q5QwG"
      },
      "source": [
        "# An InteractiveSession installs itself as the default session on construction,\n",
        "# It avoids having to pass an explicit Session object to run op\n",
        "sess = tf.InteractiveSession()\n",
        "\n",
        "# Initialize model parameters (TensorFlow Variables)\n",
        "sess.run(tf.global_variables_initializer())\n",
        "sess.run(tf.local_variables_initializer())"
      ],
      "execution_count": null,
      "outputs": []
    },
    {
      "cell_type": "markdown",
      "metadata": {
        "id": "LXcKAbbt5QwH"
      },
      "source": [
        "Write a function to evaluate a model. Evaluate the model by running `env.loss` and `env.acc` (only forward propagation).\n",
        "\n",
        "Used by our training process to report current loss."
      ]
    },
    {
      "cell_type": "code",
      "metadata": {
        "id": "Z8UzpdMW5QwI"
      },
      "source": [
        "def evaluate(X_data, y_data, batch_size=128):\n",
        "    \n",
        "    n_sample = X_data.shape[0]\n",
        "    n_batch = (n_sample+batch_size-1) // batch_size # number of mini-batches\n",
        "    \n",
        "    loss, acc = 0, 0\n",
        "\n",
        "    for batch in range(n_batch):\n",
        "        print('[Evaluation] batch {0}/{1}'.format(batch + 1, n_batch), end='\\r')\n",
        "        start = batch * batch_size\n",
        "        end = min(n_sample, start + batch_size)\n",
        "        cnt = end - start # weight for the current mini-batch\n",
        "        batch_loss, batch_acc = sess.run(\n",
        "            [env.loss, env.acc],\n",
        "            feed_dict={env.x: X_data[start:end],\n",
        "                       env.y: y_data[start:end]})\n",
        "        loss += batch_loss * cnt\n",
        "        acc += batch_acc * cnt\n",
        "    loss /= n_sample\n",
        "    acc /= n_sample\n",
        "\n",
        "    print('* loss: {0:.4f} acc: {1:.4f}'.format(loss, acc))\n",
        "    return loss, acc"
      ],
      "execution_count": null,
      "outputs": []
    },
    {
      "cell_type": "markdown",
      "metadata": {
        "id": "VTPDff-L5QwK"
      },
      "source": [
        "Training parameters:"
      ]
    },
    {
      "cell_type": "code",
      "metadata": {
        "id": "Xi5FiWWx5QwL"
      },
      "source": [
        "batch_size = 128 # size of mini-batch\n",
        "epochs = 5\n",
        "name = 'mnist' # model name"
      ],
      "execution_count": null,
      "outputs": []
    },
    {
      "cell_type": "code",
      "metadata": {
        "colab": {
          "base_uri": "https://localhost:8080/"
        },
        "id": "LsaQrYTu5QwM",
        "outputId": "39eeae22-87f4-42f6-8cbc-931c30c9ece4"
      },
      "source": [
        "num_train = X_train.shape[0]\n",
        "n_batch = (num_train + batch_size - 1) // batch_size # number of mini-batches per epoch / data-pass\n",
        "print('n_batch:', n_batch)"
      ],
      "execution_count": null,
      "outputs": [
        {
          "output_type": "stream",
          "text": [
            "n_batch: 422\n"
          ],
          "name": "stdout"
        }
      ]
    },
    {
      "cell_type": "markdown",
      "metadata": {
        "id": "vKp0gSbe5QwN"
      },
      "source": [
        "Train the model by running `env.train_op` returned by optimizer (need backpropagation)."
      ]
    },
    {
      "cell_type": "code",
      "metadata": {
        "colab": {
          "base_uri": "https://localhost:8080/"
        },
        "id": "1jA8aA1y5QwN",
        "outputId": "6435a595-bf23-47db-fb9d-42f617dc1bcc"
      },
      "source": [
        "for epoch in range(epochs):\n",
        "    print('Epoch {0}/{1}'.format(epoch + 1, epochs))\n",
        "\n",
        "    # shuffle data (once per epoch)\n",
        "    ind = np.arange(num_train)\n",
        "    np.random.shuffle(ind)\n",
        "    X_train = X_train[ind]\n",
        "    y_train = y_train[ind]\n",
        "\n",
        "    for batch in range(n_batch):\n",
        "        print('[Training] Batch {0}/{1}'.format(batch + 1, n_batch), end='\\r')\n",
        "        ######################################################################\n",
        "        # TODO: your code here ...                                           #\n",
        "        ######################################################################\n",
        "        \n",
        "        # call sess.run(.) by setting feed_dict properly\n",
        "        # hint: you may refer to sess.run(.) in evaluate(.)\n",
        "\n",
        "        start = batch * batch_size\n",
        "        end = min(num_train, start + batch_size)\n",
        "        sess.run(env.train_op, feed_dict={env.x: X_train[start:end], env.y: y_train[start:end], env.training: True})\n",
        "        \n",
        "        ######################################################################\n",
        "        #                              END OF YOUR CODE                      #\n",
        "        ######################################################################\n",
        "    \n",
        "    # evaluate on validation dataset (once per epoch)\n",
        "    evaluate(X_valid, y_valid)"
      ],
      "execution_count": null,
      "outputs": [
        {
          "output_type": "stream",
          "text": [
            "Epoch 1/5\n",
            "* loss: 0.0637 acc: 0.9810\n",
            "Epoch 2/5\n",
            "* loss: 0.0406 acc: 0.9868\n",
            "Epoch 3/5\n",
            "* loss: 0.0363 acc: 0.9892\n",
            "Epoch 4/5\n",
            "* loss: 0.0321 acc: 0.9898\n",
            "Epoch 5/5\n",
            "* loss: 0.0333 acc: 0.9903\n"
          ],
          "name": "stdout"
        }
      ]
    },
    {
      "cell_type": "markdown",
      "metadata": {
        "id": "hxg2fWA65QwO"
      },
      "source": [
        "Evaluate on test dataset:"
      ]
    },
    {
      "cell_type": "code",
      "metadata": {
        "colab": {
          "base_uri": "https://localhost:8080/"
        },
        "id": "WK7prCS_5QwO",
        "outputId": "0ce15efc-9ce5-4f42-99bb-47aad1cdb412"
      },
      "source": [
        "evaluate(X_test, y_test)"
      ],
      "execution_count": null,
      "outputs": [
        {
          "output_type": "stream",
          "text": [
            "* loss: 0.0275 acc: 0.9893\n"
          ],
          "name": "stdout"
        },
        {
          "output_type": "execute_result",
          "data": {
            "text/plain": [
              "(0.027522578781982884, 0.9893)"
            ]
          },
          "metadata": {
            "tags": []
          },
          "execution_count": 24
        }
      ]
    },
    {
      "cell_type": "markdown",
      "metadata": {
        "id": "gxo6VfaM5QwO"
      },
      "source": [
        "## Step 4: The Prediction Function"
      ]
    },
    {
      "cell_type": "markdown",
      "metadata": {
        "id": "Ex4vr86X5QwP"
      },
      "source": [
        "First define the predict function that takes X and return score vector y (per sample):"
      ]
    },
    {
      "cell_type": "markdown",
      "metadata": {
        "id": "ufHB88p35QwP"
      },
      "source": [
        "Needed to compute the label, used to check the prediction of test images and their adversarial versions."
      ]
    },
    {
      "cell_type": "code",
      "metadata": {
        "id": "yFkWQMrQ5QwW"
      },
      "source": [
        "def predict(X_data, batch_size=128):\n",
        "    \"\"\"\n",
        "    Do inference by running env.ybar.\n",
        "    \"\"\"\n",
        "    n_classes = env.ybar.get_shape().as_list()[1]\n",
        "\n",
        "    n_sample = X_data.shape[0]\n",
        "    n_batch = int((n_sample+batch_size-1) / batch_size)\n",
        "    yval = np.empty((n_sample, n_classes))\n",
        "\n",
        "    for batch in range(n_batch):\n",
        "        print('[Prediction] batch {0}/{1}'.format(batch + 1, n_batch), end='\\r')\n",
        "        start = batch * batch_size\n",
        "        end = min(n_sample, start + batch_size)\n",
        "        ######################################################################\n",
        "        # TODO: your code here ...                                           #\n",
        "        ######################################################################\n",
        "        \n",
        "        # hint:\n",
        "        # only X is needed as input, as we compute y as prediction\n",
        "        # evaluation metrics are not needed\n",
        "\n",
        "        y_batch = sess.run(env.ybar, feed_dict={env.x: X_data[start:end]})\n",
        "        yval[start:end] = y_batch\n",
        "        \n",
        "        ######################################################################\n",
        "        #                              END OF YOUR CODE                      #\n",
        "        ######################################################################\n",
        "    print()\n",
        "    return yval"
      ],
      "execution_count": null,
      "outputs": []
    },
    {
      "cell_type": "markdown",
      "metadata": {
        "id": "RGs2GyKM5QwY"
      },
      "source": [
        "See how to use it, by predicting the first 2 test samples:"
      ]
    },
    {
      "cell_type": "code",
      "metadata": {
        "colab": {
          "base_uri": "https://localhost:8080/"
        },
        "id": "Lg4Ewctb5QwZ",
        "outputId": "a2530ff6-fca6-4f6b-8954-a1b2dccac0c9"
      },
      "source": [
        "result = predict(X_test[0:2])\n",
        "result"
      ],
      "execution_count": null,
      "outputs": [
        {
          "output_type": "stream",
          "text": [
            "[Prediction] batch 1/1\r\n"
          ],
          "name": "stdout"
        },
        {
          "output_type": "execute_result",
          "data": {
            "text/plain": [
              "array([[9.49055678e-12, 8.79655460e-08, 1.09337165e-07, 1.20179106e-06,\n",
              "        3.44846640e-09, 3.82116699e-10, 4.75098324e-15, 9.99998212e-01,\n",
              "        7.15317805e-10, 4.02254102e-07],\n",
              "       [5.03405374e-07, 1.75871367e-06, 9.99997139e-01, 1.59440169e-11,\n",
              "        9.63166658e-10, 6.07619770e-12, 6.53755819e-07, 1.14871107e-11,\n",
              "        2.16113571e-09, 2.43279442e-12]])"
            ]
          },
          "metadata": {
            "tags": []
          },
          "execution_count": 26
        }
      ]
    },
    {
      "cell_type": "code",
      "metadata": {
        "id": "RLrqIhGC5QwZ",
        "colab": {
          "base_uri": "https://localhost:8080/"
        },
        "outputId": "688f3ae8-c161-469d-859a-df09ed331da5"
      },
      "source": [
        "print(np.argmax(result, axis=1))"
      ],
      "execution_count": null,
      "outputs": [
        {
          "output_type": "stream",
          "text": [
            "[7 2]\n"
          ],
          "name": "stdout"
        }
      ]
    },
    {
      "cell_type": "code",
      "metadata": {
        "colab": {
          "base_uri": "https://localhost:8080/"
        },
        "id": "hioi5Huy5Qwa",
        "outputId": "0e187cdd-2915-4028-97b9-a7f8564d693d"
      },
      "source": [
        "print(y_test[0:2])"
      ],
      "execution_count": null,
      "outputs": [
        {
          "output_type": "stream",
          "text": [
            "[[0. 0. 0. 0. 0. 0. 0. 1. 0. 0.]\n",
            " [0. 0. 1. 0. 0. 0. 0. 0. 0. 0.]]\n"
          ],
          "name": "stdout"
        }
      ]
    },
    {
      "cell_type": "markdown",
      "metadata": {
        "id": "2y7VHuDj5Qwa"
      },
      "source": [
        "Question: is the predict correct? Why?\n",
        "\n",
        "**[Your Answer Here]**\n",
        "\n",
        "The prediction is correct. In the output array for 1st row, only the 8th index is 1 which is 7, others prediction is 0(Zero). For the 2nd row, the index of 2 is returned 1 which is correct. Other values are zero."
      ]
    },
    {
      "cell_type": "markdown",
      "metadata": {
        "id": "3Ikovuu95Qwa"
      },
      "source": [
        "## Step 5: Generating Adversarial Images Using FGSM"
      ]
    },
    {
      "cell_type": "markdown",
      "metadata": {
        "id": "PrE8BYw85Qwb"
      },
      "source": [
        "Let us first implement the Fast Gradient Sign Method (FGSM). Look at its definition here: https://medium.com/onfido-tech/adversarial-attacks-and-defences-for-convolutional-neural-networks-66915ece52e7"
      ]
    },
    {
      "cell_type": "markdown",
      "metadata": {
        "id": "JDlQM41m5Qwb"
      },
      "source": [
        "We have defined some attack functions in package `attack`, now import them and pass `model` as their input.\n",
        "\n",
        "Track these attack models in `env`."
      ]
    },
    {
      "cell_type": "code",
      "metadata": {
        "id": "JxS-oVek5Qwb"
      },
      "source": [
        "from attacks import fgm, fgmt, jsma, deepfool\n",
        "\n",
        "with tf.variable_scope('model', reuse=True): # reuse var-scope of where we defined models\n",
        "    env.x_fgsm = fgm(model, env.x, # untargeted\n",
        "                     epochs=env.adv_epochs, eps=env.adv_eps)\n",
        "    env.x_fgsmt = fgmt(model, env.x, env.adv_y, # targeted\n",
        "                     epochs=env.adv_epochs, eps=env.adv_eps)\n",
        "    env.x_deepfool = deepfool(model, env.x, # untargeted\n",
        "                              epochs=env.adv_epochs, batch=True)\n",
        "    env.x_jsma = jsma(model, env.x, env.adv_y, # targeted\n",
        "                      eps=env.adv_eps, epochs=env.adv_epochs)"
      ],
      "execution_count": null,
      "outputs": []
    },
    {
      "cell_type": "markdown",
      "metadata": {
        "id": "HzJICYTF5Qwb"
      },
      "source": [
        "Now we write a function to generate adversarial images of images `X` using FGSM:"
      ]
    },
    {
      "cell_type": "code",
      "metadata": {
        "id": "ajsfEymT5Qwb"
      },
      "source": [
        "def make_fgsm(X_data, epochs=1, eps=0.01, batch_size=128):\n",
        "    print('\\nMaking adversarials via FGSM')\n",
        "\n",
        "    n_sample = X_data.shape[0]\n",
        "    n_batch = int((n_sample + batch_size - 1) / batch_size)\n",
        "    X_adv = np.empty_like(X_data)\n",
        "\n",
        "    for batch in range(n_batch):\n",
        "        print(' batch {0}/{1}'.format(batch + 1, n_batch), end='\\r')\n",
        "        start = batch * batch_size\n",
        "        end = min(n_sample, start + batch_size)\n",
        "        feed_dict = {env.x: X_data[start:end], env.adv_eps: eps,\n",
        "                     env.adv_epochs: epochs}\n",
        "        adv = sess.run(env.x_fgsm, feed_dict=feed_dict)\n",
        "        X_adv[start:end] = adv\n",
        "    print()\n",
        "\n",
        "    return X_adv"
      ],
      "execution_count": null,
      "outputs": []
    },
    {
      "cell_type": "markdown",
      "metadata": {
        "id": "GaXKRbbU5Qwc"
      },
      "source": [
        "Compute predictions of `X_test` and their adversarial images: "
      ]
    },
    {
      "cell_type": "code",
      "metadata": {
        "colab": {
          "base_uri": "https://localhost:8080/"
        },
        "id": "lJDmG0un5Qwc",
        "scrolled": true,
        "outputId": "bb46ec22-ae1f-45f3-8efa-51271522975a"
      },
      "source": [
        "y1 = predict(X_test)\n",
        "\n",
        "X_adv = make_fgsm(X_test, eps=0.02, epochs=12)\n",
        "y2 = predict(X_adv)"
      ],
      "execution_count": null,
      "outputs": [
        {
          "output_type": "stream",
          "text": [
            "[Prediction] batch 79/79\n",
            "\n",
            "Making adversarials via FGSM\n",
            "\n",
            "[Prediction] batch 79/79\n"
          ],
          "name": "stdout"
        }
      ]
    },
    {
      "cell_type": "markdown",
      "metadata": {
        "id": "SHm3Rlhp5Qwc"
      },
      "source": [
        "One-hot encodings -> labels"
      ]
    },
    {
      "cell_type": "code",
      "metadata": {
        "id": "AEKpVZXO5Qwc"
      },
      "source": [
        "z0 = np.argmax(y_test, axis=1) # true label over original images\n",
        "z1 = np.argmax(y1, axis=1) # predicted label over original images\n",
        "z2 = np.argmax(y2, axis=1) # predicted label over perturbed images"
      ],
      "execution_count": null,
      "outputs": []
    },
    {
      "cell_type": "markdown",
      "metadata": {
        "id": "Gk7Elmmu5Qwd"
      },
      "source": [
        "Check labels of the first 10 images:"
      ]
    },
    {
      "cell_type": "code",
      "metadata": {
        "colab": {
          "base_uri": "https://localhost:8080/"
        },
        "id": "zl_GTrHw5Qwd",
        "outputId": "ba552c47-42c0-4ff4-951e-d63117b65546"
      },
      "source": [
        "print(z0[0:10])\n",
        "print(z1[0:10])\n",
        "print(z2[0:10])"
      ],
      "execution_count": null,
      "outputs": [
        {
          "output_type": "stream",
          "text": [
            "[7 2 1 0 4 1 4 9 5 9]\n",
            "[7 2 1 0 4 1 4 9 5 9]\n",
            "[3 6 4 6 9 4 8 4 6 7]\n"
          ],
          "name": "stdout"
        }
      ]
    },
    {
      "cell_type": "markdown",
      "metadata": {
        "id": "M2SdWzk95Qwd"
      },
      "source": [
        "How many perturbed images have the correct label?\n",
        "\n",
        "**[Your Answer Here]**\n",
        "\n",
        "No predicted correct label"
      ]
    },
    {
      "cell_type": "markdown",
      "metadata": {
        "id": "E8xfd-sS5Qwd"
      },
      "source": [
        "Visualizing results of perturbed images:"
      ]
    },
    {
      "cell_type": "code",
      "metadata": {
        "colab": {
          "base_uri": "https://localhost:8080/",
          "height": 862
        },
        "id": "HayjIZ-s5Qwe",
        "scrolled": false,
        "outputId": "23933da6-3bc8-4fd3-f016-a011fdfdbe1b"
      },
      "source": [
        "for i in range(3): # check 3 results\n",
        "    plt.imshow(X_adv[i][:, :, 0]) # shape: (28, 28, 1) -> (28, 28)\n",
        "    # note: you can also use:\n",
        "    # plt.imshow(np.squeeze(X_adv[i])\n",
        "    # https://docs.scipy.org/doc/numpy-1.10.4/reference/generated/numpy.squeeze.html\n",
        "    plt.show()\n",
        "    print('True label:', z0[i])\n",
        "    print('Prediction:', z2[i])"
      ],
      "execution_count": null,
      "outputs": [
        {
          "output_type": "display_data",
          "data": {
            "image/png": "[encoded data removed]",
            "text/plain": [
              "<Figure size 432x288 with 1 Axes>"
            ]
          },
          "metadata": {
            "tags": [],
            "needs_background": "light"
          }
        },
        {
          "output_type": "stream",
          "text": [
            "True label: 7\n",
            "Prediction: 3\n"
          ],
          "name": "stdout"
        },
        {
          "output_type": "display_data",
          "data": {
            "image/png": "[encoded data removed]",
            "text/plain": [
              "<Figure size 432x288 with 1 Axes>"
            ]
          },
          "metadata": {
            "tags": [],
            "needs_background": "light"
          }
        },
        {
          "output_type": "stream",
          "text": [
            "True label: 2\n",
            "Prediction: 6\n"
          ],
          "name": "stdout"
        },
        {
          "output_type": "display_data",
          "data": {
            "image/png": "[encoded data removed]",
            "text/plain": [
              "<Figure size 432x288 with 1 Axes>"
            ]
          },
          "metadata": {
            "tags": [],
            "needs_background": "light"
          }
        },
        {
          "output_type": "stream",
          "text": [
            "True label: 1\n",
            "Prediction: 4\n"
          ],
          "name": "stdout"
        }
      ]
    },
    {
      "cell_type": "markdown",
      "metadata": {
        "id": "DN2DmokV5Qwe"
      },
      "source": [
        "Now we improve our visualization to be space-efficient and show examples for all classes.\n",
        "\n",
        "Randomly sample adversarial data from each of the 10 categories:"
      ]
    },
    {
      "cell_type": "code",
      "metadata": {
        "colab": {
          "base_uri": "https://localhost:8080/",
          "height": 302
        },
        "id": "cN9nAJsA5Qwe",
        "outputId": "ff704149-814d-4f6d-98ea-5d01721dbd12"
      },
      "source": [
        "import matplotlib.gridspec as gridspec\n",
        "\n",
        "X_tmp = np.empty((10, 28, 28))\n",
        "y_tmp = np.empty((10, 10))\n",
        "for i in range(10):\n",
        "    print('Target {0}'.format(i))\n",
        "    ind, = np.where(np.all([z0 == i, z1 == i, z2 != i], axis=0)) # ind = list of positions\n",
        "    # Function np.all() 'AND's all 3 arrays: an element is True only if all 3 conditions are met\n",
        "    cur = np.random.choice(ind)\n",
        "    X_tmp[i] = np.squeeze(X_adv[cur])\n",
        "    y_tmp[i] = y2[cur]\n",
        "\n",
        "print('\\nPlotting results')\n",
        "\n",
        "fig = plt.figure(figsize=(10, 1.2))\n",
        "gs = gridspec.GridSpec(1, 10, wspace=0.05, hspace=0.05)\n",
        "# Check usage: https://matplotlib.org/users/gridspec.html\n",
        "\n",
        "label = np.argmax(y_tmp, axis=1)\n",
        "proba = np.max(y_tmp, axis=1)\n",
        "for i in range(10):\n",
        "    ax = fig.add_subplot(gs[0, i])\n",
        "    ax.imshow(X_tmp[i], cmap='gray', interpolation='none')\n",
        "    ax.set_xticks([])\n",
        "    ax.set_yticks([])\n",
        "    ax.set_xlabel('{0} ({1:.2f})'.format(label[i], proba[i]),\n",
        "                  fontsize=12)"
      ],
      "execution_count": null,
      "outputs": [
        {
          "output_type": "stream",
          "text": [
            "Target 0\n",
            "Target 1\n",
            "Target 2\n",
            "Target 3\n",
            "Target 4\n",
            "Target 5\n",
            "Target 6\n",
            "Target 7\n",
            "Target 8\n",
            "Target 9\n",
            "\n",
            "Plotting results\n"
          ],
          "name": "stdout"
        },
        {
          "output_type": "display_data",
          "data": {
            "image/png": "[encoded data removed]",
            "text/plain": [
              "<Figure size 720x86.4 with 10 Axes>"
            ]
          },
          "metadata": {
            "tags": []
          }
        }
      ]
    },
    {
      "cell_type": "markdown",
      "metadata": {
        "id": "RRCQh9Gh5Qwe"
      },
      "source": [
        "How confident are the predictions of the perturbed images?\n",
        "\n",
        "**[Your Answer Here]**\n",
        "\n",
        "The confidence is almost 100% for most of the images. 2/3 images have confidence lower than 80%"
      ]
    },
    {
      "cell_type": "markdown",
      "metadata": {
        "id": "bAdHJKgd5Qwf"
      },
      "source": [
        "## Step 6: Understanding FGSM Code"
      ]
    },
    {
      "cell_type": "markdown",
      "metadata": {
        "id": "zzzjuCqJ5Qwf"
      },
      "source": [
        "We first explain how to get the shape of a tensor. In TensorFlow, a tensor has both a static (inferred) shape and a dynamic (true) shape.\n",
        "\n",
        "The static shape can be read using the `tf.Tensor.get_shape()` method: this shape is inferred from the operations that were used to create the tensor, and may be partially complete.\n",
        "\n",
        "If the static shape is not fully defined, the dynamic shape of a Tensor `t` can be determined by evaluating `tf.shape(t)`."
      ]
    },
    {
      "cell_type": "code",
      "metadata": {
        "colab": {
          "base_uri": "https://localhost:8080/"
        },
        "id": "_9u-2grF5Qwf",
        "outputId": "263b7b29-d9b4-4961-fc25-36a2db06610c"
      },
      "source": [
        "a = tf.constant([[1, 2, 3], [4, 5, 6]])\n",
        "print(a)\n",
        "\n",
        "a_shape = tf.shape(a)\n",
        "print(a_shape)"
      ],
      "execution_count": null,
      "outputs": [
        {
          "output_type": "stream",
          "text": [
            "Tensor(\"Const_1:0\", shape=(2, 3), dtype=int32)\n",
            "Tensor(\"Shape_1:0\", shape=(2,), dtype=int32)\n"
          ],
          "name": "stdout"
        }
      ]
    },
    {
      "cell_type": "markdown",
      "metadata": {
        "id": "AQfXsvty5Qwg"
      },
      "source": [
        "You need to evaluate the shape:"
      ]
    },
    {
      "cell_type": "code",
      "metadata": {
        "colab": {
          "base_uri": "https://localhost:8080/"
        },
        "id": "Xal3ePhn5Qwg",
        "outputId": "dd593693-c6eb-4299-b48e-9262b2f029c7"
      },
      "source": [
        "a_shape.eval()"
      ],
      "execution_count": null,
      "outputs": [
        {
          "output_type": "execute_result",
          "data": {
            "text/plain": [
              "array([2, 3], dtype=int32)"
            ]
          },
          "metadata": {
            "tags": []
          },
          "execution_count": 57
        }
      ]
    },
    {
      "cell_type": "markdown",
      "metadata": {
        "id": "PjdHC0zV5Qwg"
      },
      "source": [
        "Note: since we use `InteractiveSession`, which installs itself as the default session. We can call `tf.Tensor.eval()` function without explicitly calling `sess.run(.)`."
      ]
    },
    {
      "cell_type": "markdown",
      "metadata": {
        "id": "QhKpVpJF5Qwg"
      },
      "source": [
        "This is equivalent to:"
      ]
    },
    {
      "cell_type": "code",
      "metadata": {
        "colab": {
          "base_uri": "https://localhost:8080/"
        },
        "id": "Yi006Xnh5Qwg",
        "outputId": "555a8950-bf4b-4ccb-8bf8-c3f07a5a4987"
      },
      "source": [
        "sess.run(a_shape)"
      ],
      "execution_count": null,
      "outputs": [
        {
          "output_type": "execute_result",
          "data": {
            "text/plain": [
              "array([2, 3], dtype=int32)"
            ]
          },
          "metadata": {
            "tags": []
          },
          "execution_count": 58
        }
      ]
    },
    {
      "cell_type": "markdown",
      "metadata": {
        "id": "lO3uFJbK5Qwh"
      },
      "source": [
        "Instead, you do not need to evaluating if you use `a.get_shape()`:"
      ]
    },
    {
      "cell_type": "code",
      "metadata": {
        "colab": {
          "base_uri": "https://localhost:8080/"
        },
        "id": "e3y1PSX25Qwi",
        "outputId": "85a523d3-7d6a-4e59-98cd-3aa097544ae7"
      },
      "source": [
        "a.shape"
      ],
      "execution_count": null,
      "outputs": [
        {
          "output_type": "execute_result",
          "data": {
            "text/plain": [
              "TensorShape([Dimension(2), Dimension(3)])"
            ]
          },
          "metadata": {
            "tags": []
          },
          "execution_count": 59
        }
      ]
    },
    {
      "cell_type": "code",
      "metadata": {
        "colab": {
          "base_uri": "https://localhost:8080/"
        },
        "id": "RLHk2nLW5Qwi",
        "outputId": "dff6314c-34d0-4b31-c242-bc80a93fe517"
      },
      "source": [
        "a.get_shape() # equivalent"
      ],
      "execution_count": null,
      "outputs": [
        {
          "output_type": "execute_result",
          "data": {
            "text/plain": [
              "TensorShape([Dimension(2), Dimension(3)])"
            ]
          },
          "metadata": {
            "tags": []
          },
          "execution_count": 60
        }
      ]
    },
    {
      "cell_type": "code",
      "metadata": {
        "colab": {
          "base_uri": "https://localhost:8080/"
        },
        "id": "Ty1Fej-P5Qwj",
        "outputId": "9f028559-1b64-4f48-b8a1-c993499686c2"
      },
      "source": [
        "a.get_shape().as_list()"
      ],
      "execution_count": null,
      "outputs": [
        {
          "output_type": "execute_result",
          "data": {
            "text/plain": [
              "[2, 3]"
            ]
          },
          "metadata": {
            "tags": []
          },
          "execution_count": 61
        }
      ]
    },
    {
      "cell_type": "code",
      "metadata": {
        "colab": {
          "base_uri": "https://localhost:8080/"
        },
        "id": "xsLmKCqi5Qwj",
        "outputId": "adb8a71e-b9d3-4dc2-bfd1-31af4d55d052"
      },
      "source": [
        "b = tf.placeholder(tf.float32, shape=(None, 3)) # shape can be incomplete\n",
        "b.get_shape().as_list()"
      ],
      "execution_count": null,
      "outputs": [
        {
          "output_type": "execute_result",
          "data": {
            "text/plain": [
              "[None, 3]"
            ]
          },
          "metadata": {
            "tags": []
          },
          "execution_count": 62
        }
      ]
    },
    {
      "cell_type": "markdown",
      "metadata": {
        "id": "uCPwhc205Qwj"
      },
      "source": [
        "If we use `tf.shape(b)`, can the returned incomplete shape be evaluated?\n",
        "\n",
        "**[Your Answer Here]**\n",
        "\n",
        "No"
      ]
    },
    {
      "cell_type": "markdown",
      "metadata": {
        "id": "-LejsH4W5Qwk"
      },
      "source": [
        "Now, let's perturb the first 2 images in `X_test`. Copy them to a new tensor to pertube, called `xadv`."
      ]
    },
    {
      "cell_type": "code",
      "metadata": {
        "colab": {
          "base_uri": "https://localhost:8080/"
        },
        "id": "0Nm6uZuz5Qwk",
        "outputId": "67002d8a-3828-46b5-9411-0e5aec6fbff0"
      },
      "source": [
        "xadv = tf.identity(X_test[0:2]) # check: https://www.tensorflow.org/api_docs/python/tf/identity\n",
        "print(xadv) # Tensor\n",
        "print(xadv.eval()[0].shape) # xadv.eval() returns numpy array"
      ],
      "execution_count": null,
      "outputs": [
        {
          "output_type": "stream",
          "text": [
            "Tensor(\"Identity_1:0\", shape=(2, 28, 28, 1), dtype=float32)\n",
            "(28, 28, 1)\n"
          ],
          "name": "stdout"
        }
      ]
    },
    {
      "cell_type": "markdown",
      "metadata": {
        "id": "epiWxGVZ5Qwk"
      },
      "source": [
        "**OP 1:** `xadv` ---model---> `ybar`"
      ]
    },
    {
      "cell_type": "code",
      "metadata": {
        "colab": {
          "base_uri": "https://localhost:8080/"
        },
        "id": "N0fFOZB15Qwk",
        "outputId": "0b8f3e17-bc9c-4774-d3c0-3f1f2c83dd27"
      },
      "source": [
        "with tf.variable_scope('model', reuse=True): # this is required\n",
        "# otherwise, the operations in our model are redefined with the same names\n",
        "# will report error (you can try); here, so we reuse the model operations\n",
        "    ybar, logits_ = model(xadv, logits=True)\n",
        "\n",
        "print(ybar.eval()[0])\n",
        "yshape = ybar.get_shape().as_list()\n",
        "ydim = yshape[1]"
      ],
      "execution_count": null,
      "outputs": [
        {
          "output_type": "stream",
          "text": [
            "[9.49055678e-12 8.79655460e-08 1.09337165e-07 1.20179106e-06\n",
            " 3.44846640e-09 3.82116699e-10 4.75098324e-15 9.99998212e-01\n",
            " 7.15317805e-10 4.02254102e-07]\n"
          ],
          "name": "stdout"
        }
      ]
    },
    {
      "cell_type": "markdown",
      "metadata": {
        "id": "nP52c7az5Qwk"
      },
      "source": [
        "**OP 2:** `ybar` ---argmax{prob-vec}---> `indices`\n",
        "\n",
        "Each row of `ybar` is a softmax-probability vector, and we map it to class label:"
      ]
    },
    {
      "cell_type": "code",
      "metadata": {
        "colab": {
          "base_uri": "https://localhost:8080/"
        },
        "id": "iWRb3q3J5Qwl",
        "outputId": "8b578f8d-2b84-4915-cd75-54377f580bdf"
      },
      "source": [
        "indices = tf.argmax(ybar, axis=1)\n",
        "print(indices.eval())"
      ],
      "execution_count": null,
      "outputs": [
        {
          "output_type": "stream",
          "text": [
            "[7 2]\n"
          ],
          "name": "stdout"
        }
      ]
    },
    {
      "cell_type": "markdown",
      "metadata": {
        "id": "_09efC265Qwl"
      },
      "source": [
        "**OP 3:** `indices` ---tf.one_hot---> `target`\n",
        "\n",
        "Now each label is changed to one-hot encoding. OP1, OP2 and OP3 essentially converts probability vector to one-hot encoding of prediction."
      ]
    },
    {
      "cell_type": "code",
      "metadata": {
        "colab": {
          "base_uri": "https://localhost:8080/"
        },
        "id": "5FYOaPZ35Qwl",
        "outputId": "213ab4a8-69c0-4322-f4bb-23443de7f094"
      },
      "source": [
        "target = tf.one_hot(indices, ydim, on_value=1.0, off_value=0.0)\n",
        "print(target.eval())"
      ],
      "execution_count": null,
      "outputs": [
        {
          "output_type": "stream",
          "text": [
            "[[0. 0. 0. 0. 0. 0. 0. 1. 0. 0.]\n",
            " [0. 0. 1. 0. 0. 0. 0. 0. 0. 0.]]\n"
          ],
          "name": "stdout"
        }
      ]
    },
    {
      "cell_type": "markdown",
      "metadata": {
        "id": "tFiC3XsH5Qwm"
      },
      "source": [
        "Now we compute loss `J` from vectors `target` (original prediction, considered true and to perturb) and `logits` (scores computed by `model(xadv)`)."
      ]
    },
    {
      "cell_type": "code",
      "metadata": {
        "colab": {
          "base_uri": "https://localhost:8080/"
        },
        "id": "ho7ujphm5Qwm",
        "outputId": "901e2dda-11a0-4f56-96d5-33f03eb3e076"
      },
      "source": [
        "J = tf.nn.softmax_cross_entropy_with_logits(labels=target, logits=logits_)\n",
        "print(logits_.eval())\n",
        "print()\n",
        "print(J.eval())"
      ],
      "execution_count": null,
      "outputs": [
        {
          "output_type": "stream",
          "text": [
            "[[-10.190164    -1.0557588   -0.8382689    1.5588633   -4.2947755\n",
            "   -6.4947343  -17.789865    15.190559    -5.867734     0.46437973]\n",
            " [  4.24872      5.4996624   18.750587    -6.111347    -2.010205\n",
            "   -7.076052     4.5100584   -6.439204    -1.2020407   -7.9913907 ]]\n",
            "\n",
            "[1.7881378e-06 2.8610189e-06]\n"
          ],
          "name": "stdout"
        }
      ]
    },
    {
      "cell_type": "markdown",
      "metadata": {
        "id": "LbVANUzS5Qwm"
      },
      "source": [
        "We are using the notations here: https://medium.com/onfido-tech/adversarial-attacks-and-defences-for-convolutional-neural-networks-66915ece52e7. Now let us complete FGSM:"
      ]
    },
    {
      "cell_type": "code",
      "metadata": {
        "id": "rJXmDKhR5Qwo"
      },
      "source": [
        "# Now, our input `xadv = tf.identity(X_test[0:2])` is a constant\n",
        "# gradient will be evaluated to be zero (= None)\n",
        "\n",
        "# recall that we have defined model input env.x, can be reused\n",
        "\n",
        "# loss needs to be redefined, compared not with true label, \n",
        "# but the predicted label (which is to be changed)\n",
        "yshape = env.ybar.get_shape().as_list()\n",
        "ydim = yshape[1]\n",
        "indices = tf.argmax(env.ybar, axis=1)\n",
        "target = tf.one_hot(indices, ydim, on_value=1.0, off_value=0.0)\n",
        "J = tf.nn.softmax_cross_entropy_with_logits(labels=target, logits=logits)\n",
        "#J = tf.nn.softmax_cross_entropy_with_logits(labels=y_test[:10], logits=logits) ### hint ###\n",
        "\n",
        "# Now we implement FGSM using notations of:\n",
        "# https://medium.com/onfido-tech/adversarial-attacks-and-defences-for-convolutional-neural-networks-66915ece52e7\n",
        "eps=0.02\n",
        "\n",
        "# Check: https://www.tensorflow.org/api_docs/python/tf/gradients\n",
        "dJ_dxadv = tf.gradients(J, env.x)[0] # tf.gradients returns a singleton list\n",
        "\n",
        "# Check: https://www.tensorflow.org/api_docs/python/tf/stop_gradient\n",
        "xadv = tf.stop_gradient(env.x + eps*tf.sign(dJ_dxadv)) #outputs its input tensor as-is\n",
        "# note: the new 'xadv' is treated as a constant, not backpropagation during eval\n",
        "# thus, it will not propagation -> J -> model, and trained model parameters are protected\n",
        "\n",
        "# Check: https://www.tensorflow.org/api_docs/python/tf/clip_by_value\n",
        "xadv = tf.clip_by_value(xadv, 0.0, 1.0) # we assume pixel values are within [0, 1]\n",
        "\n",
        "feed_dict = {env.x: X_test[0:10]} # input is test images\n",
        "X_adv = sess.run(xadv, feed_dict=feed_dict)"
      ],
      "execution_count": null,
      "outputs": []
    },
    {
      "cell_type": "markdown",
      "metadata": {
        "id": "_c9tZ-6y5Qwo"
      },
      "source": [
        "This is one iteration, see how it performs:"
      ]
    },
    {
      "cell_type": "code",
      "metadata": {
        "colab": {
          "base_uri": "https://localhost:8080/",
          "height": 929
        },
        "id": "uGNFjK7M5Qwp",
        "outputId": "aa532c45-3c25-40ee-ac90-b17e325d428a"
      },
      "source": [
        "y1 = predict(X_test[0:10])\n",
        "y2 = predict(X_adv)\n",
        "\n",
        "z1 = np.argmax(y1, axis=1) # predicted label over original images\n",
        "z2 = np.argmax(y2, axis=1) # predicted label over perturbed images\n",
        "print(z1)\n",
        "print(z2)\n",
        "\n",
        "for i in range(3): # check 3 results\n",
        "    plt.imshow(X_adv[i][:, :, 0]) # shape: (28, 28, 1) -> (28, 28)\n",
        "    # note: you can also use:\n",
        "    # plt.imshow(np.squeeze(X_adv[i])\n",
        "    # https://docs.scipy.org/doc/numpy-1.10.4/reference/generated/numpy.squeeze.html\n",
        "    plt.show()\n",
        "    print('True label:', z0[i])\n",
        "    print('Prediction:', z2[i])"
      ],
      "execution_count": null,
      "outputs": [
        {
          "output_type": "stream",
          "text": [
            "[Prediction] batch 1/1\r\n",
            "[Prediction] batch 1/1\r\n",
            "[7 2 1 0 4 1 4 9 5 9]\n",
            "[7 2 1 0 4 1 4 9 5 9]\n"
          ],
          "name": "stdout"
        },
        {
          "output_type": "display_data",
          "data": {
            "image/png": "[encoded data removed]",
            "text/plain": [
              "<Figure size 432x288 with 1 Axes>"
            ]
          },
          "metadata": {
            "tags": [],
            "needs_background": "light"
          }
        },
        {
          "output_type": "stream",
          "text": [
            "True label: 7\n",
            "Prediction: 7\n"
          ],
          "name": "stdout"
        },
        {
          "output_type": "display_data",
          "data": {
            "image/png": "[encoded data removed]",
            "text/plain": [
              "<Figure size 432x288 with 1 Axes>"
            ]
          },
          "metadata": {
            "tags": [],
            "needs_background": "light"
          }
        },
        {
          "output_type": "stream",
          "text": [
            "True label: 2\n",
            "Prediction: 2\n"
          ],
          "name": "stdout"
        },
        {
          "output_type": "display_data",
          "data": {
            "image/png": "[encoded data removed]",
            "text/plain": [
              "<Figure size 432x288 with 1 Axes>"
            ]
          },
          "metadata": {
            "tags": [],
            "needs_background": "light"
          }
        },
        {
          "output_type": "stream",
          "text": [
            "True label: 1\n",
            "Prediction: 1\n"
          ],
          "name": "stdout"
        }
      ]
    },
    {
      "cell_type": "markdown",
      "metadata": {
        "id": "vcdjgbFC5Qwp"
      },
      "source": [
        "Not effective at all!"
      ]
    },
    {
      "cell_type": "markdown",
      "metadata": {
        "id": "XimPbiWa5Qwq"
      },
      "source": [
        "How about running for 11 more iterations?"
      ]
    },
    {
      "cell_type": "code",
      "metadata": {
        "id": "4GACxOFe5Qwq"
      },
      "source": [
        "for _ in range(11):\n",
        "    feed_dict = {env.x: X_adv} # input is previously perturbed images\n",
        "    X_adv = sess.run(xadv, feed_dict=feed_dict)"
      ],
      "execution_count": null,
      "outputs": []
    },
    {
      "cell_type": "code",
      "metadata": {
        "colab": {
          "base_uri": "https://localhost:8080/",
          "height": 929
        },
        "id": "ktP1QFEX5Qwq",
        "outputId": "3e95f3b4-1b53-475e-e9e0-6ba78d6a3f7b"
      },
      "source": [
        "y1 = predict(X_test[0:10])\n",
        "y2 = predict(X_adv)\n",
        "\n",
        "z1 = np.argmax(y1, axis=1) # predicted label over original images\n",
        "z2 = np.argmax(y2, axis=1) # predicted label over perturbed images\n",
        "print(z1)\n",
        "print(z2)\n",
        "\n",
        "for i in range(3): # check 3 results\n",
        "    plt.imshow(X_adv[i][:, :, 0]) # shape: (28, 28, 1) -> (28, 28)\n",
        "    # note: you can also use:\n",
        "    # plt.imshow(np.squeeze(X_adv[i])\n",
        "    # https://docs.scipy.org/doc/numpy-1.10.4/reference/generated/numpy.squeeze.html\n",
        "    plt.show()\n",
        "    print('True label:', z0[i])\n",
        "    print('Prediction:', z2[i])"
      ],
      "execution_count": null,
      "outputs": [
        {
          "output_type": "stream",
          "text": [
            "[Prediction] batch 1/1\r\n",
            "[Prediction] batch 1/1\r\n",
            "[7 2 1 0 4 1 4 9 5 9]\n",
            "[7 2 4 6 9 1 4 8 5 4]\n"
          ],
          "name": "stdout"
        },
        {
          "output_type": "display_data",
          "data": {
            "image/png": "[encoded data removed]",
            "text/plain": [
              "<Figure size 432x288 with 1 Axes>"
            ]
          },
          "metadata": {
            "tags": [],
            "needs_background": "light"
          }
        },
        {
          "output_type": "stream",
          "text": [
            "True label: 7\n",
            "Prediction: 7\n"
          ],
          "name": "stdout"
        },
        {
          "output_type": "display_data",
          "data": {
            "image/png": "[encoded data removed]",
            "text/plain": [
              "<Figure size 432x288 with 1 Axes>"
            ]
          },
          "metadata": {
            "tags": [],
            "needs_background": "light"
          }
        },
        {
          "output_type": "stream",
          "text": [
            "True label: 2\n",
            "Prediction: 2\n"
          ],
          "name": "stdout"
        },
        {
          "output_type": "display_data",
          "data": {
            "image/png": "[encoded data removed]",
            "text/plain": [
              "<Figure size 432x288 with 1 Axes>"
            ]
          },
          "metadata": {
            "tags": [],
            "needs_background": "light"
          }
        },
        {
          "output_type": "stream",
          "text": [
            "True label: 1\n",
            "Prediction: 4\n"
          ],
          "name": "stdout"
        }
      ]
    },
    {
      "cell_type": "markdown",
      "metadata": {
        "id": "106oDwQ15Qwq"
      },
      "source": [
        "Still not as effective as `make_fgsm(.)`. Why? And how to fix it?\n",
        "\n",
        "**[Your Answer Here]** Hint: search for ### hint ### in this notebook\n",
        "\n",
        "In J = tf.nn.softmax_cross_entropy_with_logits(labels=y_test[:10], logits=logits) the labels=y_test[:10] is the true lables and in J = tf.nn.softmax_cross_entropy_with_logits(labels=target, logits=logits) labels=target is the predicted labels."
      ]
    },
    {
      "cell_type": "markdown",
      "metadata": {
        "id": "ACCdgDiF5Qwr"
      },
      "source": [
        "Now, refer back to `make_fgsm(.)`, in it `sess.run(.)` is called on `env.x_fgsm`, which is set using function `fgm(.)` in `attack/fast_gradient.py`. Please open that file and read the function. You may find the following links helpful:\n",
        "1. https://docs.w3cub.com/tensorflow~python/tf/while_loop/\n",
        "2. https://www.tensorflow.org/api_docs/python/tf/cond"
      ]
    },
    {
      "cell_type": "markdown",
      "metadata": {
        "id": "r34Amitv5Qwr"
      },
      "source": [
        "What is the difference there compared with the one implemented in this notebook?\n",
        "\n",
        "**[Your Answer Here]**\n",
        "\n",
        "This code did not use the tf.while_loop(). "
      ]
    },
    {
      "cell_type": "markdown",
      "metadata": {
        "id": "17A7WisE5Qwr"
      },
      "source": [
        "## Step 7: Understanding T-FGSM"
      ]
    },
    {
      "cell_type": "markdown",
      "metadata": {
        "id": "L67MwSFA5Qwr"
      },
      "source": [
        "Read function `fgmt(.)` in `attack/fast_gradient.py`. Note that there is one more input `y` (target label) which is set as the least likely class by default.\n",
        "\n",
        "Write `make_fgsmt` following how `make_fgsm` is wrote:"
      ]
    },
    {
      "cell_type": "code",
      "metadata": {
        "id": "T-GR__g95Qws"
      },
      "source": [
        "def make_fgsmt(X_data, y_adv, epochs=1, eps=0.01, batch_size=128):\n",
        "    ######################################################################\n",
        "    # TODO: your code here ...                                           #\n",
        "    ######################################################################\n",
        "    pass\n",
        "    n_sample = X_data.shape[0]\n",
        "    n_batch = int((n_sample + batch_size - 1) / batch_size)\n",
        "    X_adv = np.empty_like(X_data)\n",
        "\n",
        "    for batch in range(n_batch):\n",
        "        print(' batch {0}/{1}'.format(batch + 1, n_batch), end='\\r')\n",
        "        start = batch * batch_size\n",
        "        end = min(n_sample, start + batch_size)\n",
        "        adv = sess.run(env.x_fgsm, feed_dict={env.x: X_data[start:end], env.adv_eps: eps,\n",
        "            env.adv_epochs: epochs})\n",
        "        X_adv[start:end] = adv\n",
        "           \n",
        "    print()\n",
        "\n",
        "    return X_adv\n",
        "    ######################################################################\n",
        "    #                              END OF YOUR CODE                      #\n",
        "    ######################################################################"
      ],
      "execution_count": null,
      "outputs": []
    },
    {
      "cell_type": "markdown",
      "metadata": {
        "id": "qh5tBdvr5Qws"
      },
      "source": [
        "Now, try it on `X_test[0:3]`:"
      ]
    },
    {
      "cell_type": "code",
      "metadata": {
        "colab": {
          "base_uri": "https://localhost:8080/"
        },
        "id": "gcOZO-se5Qws",
        "outputId": "4c1c4eaf-e73b-4374-d532-83a5e37a37e3"
      },
      "source": [
        "X_adv = make_fgsmt(X_test[0:3], 1, eps=0.02, epochs=12)"
      ],
      "execution_count": null,
      "outputs": [
        {
          "output_type": "stream",
          "text": [
            " batch 1/1\r\n"
          ],
          "name": "stdout"
        }
      ]
    },
    {
      "cell_type": "code",
      "metadata": {
        "colab": {
          "base_uri": "https://localhost:8080/",
          "height": 929
        },
        "id": "5l-IDRVt5Qws",
        "outputId": "82726dfb-8011-4f8e-d2ed-73c1f924e2f9"
      },
      "source": [
        "y1 = predict(X_test[0:3])\n",
        "y2 = predict(X_adv)\n",
        "\n",
        "z1 = np.argmax(y1, axis=1) # predicted label over original images\n",
        "z2 = np.argmax(y2, axis=1) # predicted label over perturbed images\n",
        "print(z1)\n",
        "print(z2)\n",
        "\n",
        "for i in range(3): # check 3 results\n",
        "    plt.imshow(X_adv[i][:, :, 0]) # shape: (28, 28, 1) -> (28, 28)\n",
        "    # note: you can also use:\n",
        "    # plt.imshow(np.squeeze(X_adv[i])\n",
        "    # https://docs.scipy.org/doc/numpy-1.10.4/reference/generated/numpy.squeeze.html\n",
        "    plt.show()\n",
        "    print('True label:', z0[i])\n",
        "    print('Prediction:', z2[i])"
      ],
      "execution_count": null,
      "outputs": [
        {
          "output_type": "stream",
          "text": [
            "[Prediction] batch 1/1\r\n",
            "[Prediction] batch 1/1\r\n",
            "[7 2 1]\n",
            "[3 6 4]\n"
          ],
          "name": "stdout"
        },
        {
          "output_type": "display_data",
          "data": {
            "image/png": "[encoded data removed]",
            "text/plain": [
              "<Figure size 432x288 with 1 Axes>"
            ]
          },
          "metadata": {
            "tags": [],
            "needs_background": "light"
          }
        },
        {
          "output_type": "stream",
          "text": [
            "True label: 7\n",
            "Prediction: 3\n"
          ],
          "name": "stdout"
        },
        {
          "output_type": "display_data",
          "data": {
            "image/png": "[encoded data removed]",
            "text/plain": [
              "<Figure size 432x288 with 1 Axes>"
            ]
          },
          "metadata": {
            "tags": [],
            "needs_background": "light"
          }
        },
        {
          "output_type": "stream",
          "text": [
            "True label: 2\n",
            "Prediction: 6\n"
          ],
          "name": "stdout"
        },
        {
          "output_type": "display_data",
          "data": {
            "image/png": "[encoded data removed]",
            "text/plain": [
              "<Figure size 432x288 with 1 Axes>"
            ]
          },
          "metadata": {
            "tags": [],
            "needs_background": "light"
          }
        },
        {
          "output_type": "stream",
          "text": [
            "True label: 1\n",
            "Prediction: 4\n"
          ],
          "name": "stdout"
        }
      ]
    },
    {
      "cell_type": "markdown",
      "metadata": {
        "id": "N5hdtuO55Qwt"
      },
      "source": [
        "## Step 8: Comparing Different Attacking Methods"
      ]
    },
    {
      "cell_type": "code",
      "metadata": {
        "id": "aEpJOSIP5Qwt"
      },
      "source": [
        "def make_jsma(X_data, epochs=0.2, eps=1.0, batch_size=128):\n",
        "    print('\\nMaking adversarials via JSMA')\n",
        "\n",
        "    n_sample = X_data.shape[0]\n",
        "    n_batch = int((n_sample + batch_size - 1) / batch_size)\n",
        "    X_adv = np.empty_like(X_data)\n",
        "\n",
        "    for batch in range(n_batch):\n",
        "        print(' batch {0}/{1}'.format(batch + 1, n_batch), end='\\r')\n",
        "        start = batch * batch_size\n",
        "        end = min(n_sample, start + batch_size)\n",
        "        feed_dict = {\n",
        "            env.x: X_data[start:end],\n",
        "            env.adv_y: np.random.choice(n_classes),\n",
        "            env.adv_epochs: epochs,\n",
        "            env.adv_eps: eps}\n",
        "        adv = sess.run(env.x_jsma, feed_dict=feed_dict)\n",
        "        X_adv[start:end] = adv\n",
        "    print()\n",
        "\n",
        "    return X_adv\n",
        "\n",
        "\n",
        "def make_deepfool(X_data, epochs=1, eps=0.01, batch_size=128):\n",
        "    print('\\nMaking adversarials via FGSM')\n",
        "\n",
        "    n_sample = X_data.shape[0]\n",
        "    n_batch = int((n_sample + batch_size - 1) / batch_size)\n",
        "    X_adv = np.empty_like(X_data)\n",
        "\n",
        "    for batch in range(n_batch):\n",
        "        print(' batch {0}/{1}'.format(batch + 1, n_batch), end='\\r')\n",
        "        start = batch * batch_size\n",
        "        end = min(n_sample, start + batch_size)\n",
        "        feed_dict = {env.x: X_data[start:end], env.adv_epochs: epochs}\n",
        "        adv = sess.run(env.x_deepfool, feed_dict=feed_dict)\n",
        "        X_adv[start:end] = adv\n",
        "    print()\n",
        "\n",
        "    return X_adv"
      ],
      "execution_count": null,
      "outputs": []
    },
    {
      "cell_type": "code",
      "metadata": {
        "colab": {
          "base_uri": "https://localhost:8080/",
          "height": 1000
        },
        "id": "XjJArry85Qwu",
        "outputId": "32692ebb-4ffd-47d0-f38f-9286c736eb71"
      },
      "source": [
        "print('\\nRandomly sample adversarial data from each category')\n",
        "\n",
        "while True:\n",
        "    ind = np.random.choice(X_test.shape[0])\n",
        "    xorg, y0 = X_test[ind], y_test[ind]\n",
        "\n",
        "    xorg = np.expand_dims(xorg, axis=0)\n",
        "    z0 = np.argmax(y0)\n",
        "    z1 = np.argmax(predict(xorg))\n",
        "\n",
        "    if z0 != z1:\n",
        "        continue\n",
        "\n",
        "    xadvs = [make_fgsm(xorg, eps=0.02, epochs=10),\n",
        "             make_jsma(xorg, eps=0.5, epochs=40),\n",
        "             make_deepfool(xorg, epochs=1)]\n",
        "    y2 = [predict(xi).flatten() for xi in xadvs]\n",
        "    p2 = [np.max(yi) for yi in y2]\n",
        "    z2 = [np.argmax(yi) for yi in y2]\n",
        "\n",
        "    if np.all([z0 != z2]):\n",
        "        break\n",
        "\n",
        "fig = plt.figure(figsize=(4.2, 2.2))\n",
        "gs = gridspec.GridSpec(2, 5, width_ratios=[1, 1, 1, 1, 0.1], wspace=0.01,\n",
        "                       hspace=0.01)\n",
        "label = ['Clean', 'FGM', 'JSMA', 'DeepFool']\n",
        "\n",
        "xorg = np.squeeze(xorg)\n",
        "xadvs = [xorg] + xadvs\n",
        "xadvs = [np.squeeze(e) for e in xadvs]\n",
        "\n",
        "p2 = [np.max(y0)] + p2\n",
        "z2 = [z0] + z2\n",
        "\n",
        "for i in range(len(label)):\n",
        "    x = xadvs[i]\n",
        "\n",
        "    ax = fig.add_subplot(gs[0, i])\n",
        "    ax.imshow(x, cmap='gray', interpolation='none')\n",
        "    ax.set_xticks([])\n",
        "    ax.set_yticks([])\n",
        "\n",
        "    ax.set_xlabel(label[i])\n",
        "    ax.xaxis.set_label_position('top')\n",
        "\n",
        "    ax = fig.add_subplot(gs[1, i])\n",
        "    img = ax.imshow(x-xorg, cmap='RdBu_r', vmin=-1, vmax=1,\n",
        "                    interpolation='none')\n",
        "    ax.set_xticks([])\n",
        "    ax.set_yticks([])\n",
        "\n",
        "    ax.set_xlabel('{0} ({1:.2f})'.format(z2[i], p2[i]), fontsize=12)\n",
        "\n",
        "ax = fig.add_subplot(gs[1, 4])\n",
        "dummy = plt.cm.ScalarMappable(cmap='RdBu_r',\n",
        "                              norm=plt.Normalize(vmin=-1, vmax=1))\n",
        "dummy.set_array([])\n",
        "fig.colorbar(mappable=dummy, cax=ax, ticks=[-1, 0, 1], ticklocation='right')"
      ],
      "execution_count": null,
      "outputs": [
        {
          "output_type": "stream",
          "text": [
            "\n",
            "Randomly sample adversarial data from each category\n",
            "[Prediction] batch 1/1\r\n",
            "\n",
            "Making adversarials via FGSM\n",
            " batch 1/1\r\n",
            "\n",
            "Making adversarials via JSMA\n",
            " batch 1/1\r\n",
            "\n",
            "Making adversarials via FGSM\n",
            " batch 1/1\n",
            "[Prediction] batch 1/1\n",
            "[Prediction] batch 1/1\n",
            "[Prediction] batch 1/1\n",
            "[Prediction] batch 1/1\n",
            "\n",
            "Making adversarials via FGSM\n",
            " batch 1/1\n",
            "\n",
            "Making adversarials via JSMA\n",
            " batch 1/1\n",
            "\n",
            "Making adversarials via FGSM\n",
            " batch 1/1\n",
            "[Prediction] batch 1/1\n",
            "[Prediction] batch 1/1\n",
            "[Prediction] batch 1/1\n",
            "[Prediction] batch 1/1\n",
            "\n",
            "Making adversarials via FGSM\n",
            " batch 1/1\n",
            "\n",
            "Making adversarials via JSMA\n",
            "\n",
            "\n",
            "Making adversarials via FGSM\n",
            " batch 1/1\n",
            "[Prediction] batch 1/1\n",
            "[Prediction] batch 1/1\n",
            "[Prediction] batch 1/1\n",
            "[Prediction] batch 1/1\n",
            "\n",
            "Making adversarials via FGSM\n",
            " batch 1/1\n",
            "\n",
            "Making adversarials via JSMA\n",
            " batch 1/1\n",
            "\n",
            "Making adversarials via FGSM\n",
            " batch 1/1\n",
            "[Prediction] batch 1/1\n",
            "[Prediction] batch 1/1\n",
            "[Prediction] batch 1/1\n",
            "[Prediction] batch 1/1\n",
            "\n",
            "Making adversarials via FGSM\n",
            "\n",
            "\n",
            "Making adversarials via JSMA\n",
            " batch 1/1\n",
            "\n",
            "Making adversarials via FGSM\n",
            " batch 1/1\n",
            "[Prediction] batch 1/1\n",
            "[Prediction] batch 1/1\n",
            "[Prediction] batch 1/1\n",
            "[Prediction] batch 1/1\n",
            "\n",
            "Making adversarials via FGSM\n",
            " batch 1/1\n",
            "\n",
            "Making adversarials via JSMA\n",
            "\n",
            "\n",
            "Making adversarials via FGSM\n",
            " batch 1/1\n",
            "[Prediction] batch 1/1\n",
            "[Prediction] batch 1/1\n",
            "[Prediction] batch 1/1\n",
            "[Prediction] batch 1/1\n",
            "\n",
            "Making adversarials via FGSM\n",
            " batch 1/1\n",
            "\n",
            "Making adversarials via JSMA\n",
            " batch 1/1\n",
            "\n",
            "Making adversarials via FGSM\n",
            " batch 1/1\n",
            "[Prediction] batch 1/1\n",
            "[Prediction] batch 1/1\n",
            "[Prediction] batch 1/1\n",
            "[Prediction] batch 1/1\n",
            "\n",
            "Making adversarials via FGSM\n",
            " batch 1/1\n",
            "\n",
            "Making adversarials via JSMA\n",
            "\n",
            "\n",
            "Making adversarials via FGSM\n",
            " batch 1/1\n",
            "[Prediction] batch 1/1\n",
            "[Prediction] batch 1/1\n",
            "[Prediction] batch 1/1\n",
            "[Prediction] batch 1/1\n",
            "\n",
            "Making adversarials via FGSM\n",
            " batch 1/1\n",
            "\n",
            "Making adversarials via JSMA\n",
            " batch 1/1\n",
            "\n",
            "Making adversarials via FGSM\n",
            " batch 1/1\n",
            "[Prediction] batch 1/1\n",
            "[Prediction] batch 1/1\n",
            "[Prediction] batch 1/1\n",
            "[Prediction] batch 1/1\n",
            "\n",
            "Making adversarials via FGSM\n",
            "\n",
            "\n",
            "Making adversarials via JSMA\n",
            " batch 1/1\n",
            "\n",
            "Making adversarials via FGSM\n",
            " batch 1/1\n",
            "[Prediction] batch 1/1\n",
            "[Prediction] batch 1/1\n",
            "[Prediction] batch 1/1\n",
            "[Prediction] batch 1/1\n",
            "\n",
            "Making adversarials via FGSM\n",
            " batch 1/1\n",
            "\n",
            "Making adversarials via JSMA\n",
            "\n",
            "\n",
            "Making adversarials via FGSM\n",
            " batch 1/1\n",
            "[Prediction] batch 1/1\n",
            "[Prediction] batch 1/1\n",
            "[Prediction] batch 1/1\n",
            "[Prediction] batch 1/1\n",
            "\n",
            "Making adversarials via FGSM\n",
            " batch 1/1\n",
            "\n",
            "Making adversarials via JSMA\n",
            " batch 1/1\n",
            "\n",
            "Making adversarials via FGSM\n",
            " batch 1/1\n",
            "[Prediction] batch 1/1\n",
            "[Prediction] batch 1/1\n",
            "[Prediction] batch 1/1\n",
            "[Prediction] batch 1/1\n",
            "\n",
            "Making adversarials via FGSM\n",
            "\n",
            "\n",
            "Making adversarials via JSMA\n",
            " batch 1/1\n",
            "\n",
            "Making adversarials via FGSM\n",
            " batch 1/1\n",
            "[Prediction] batch 1/1\n",
            "[Prediction] batch 1/1\n",
            "[Prediction] batch 1/1\n",
            "[Prediction] batch 1/1\n",
            "\n",
            "Making adversarials via FGSM\n",
            " batch 1/1\n",
            "\n",
            "Making adversarials via JSMA\n",
            "\n",
            "\n",
            "Making adversarials via FGSM\n",
            " batch 1/1\n",
            "[Prediction] batch 1/1\n",
            "[Prediction] batch 1/1\n",
            "[Prediction] batch 1/1\n"
          ],
          "name": "stdout"
        },
        {
          "output_type": "execute_result",
          "data": {
            "text/plain": [
              "<matplotlib.colorbar.Colorbar at 0x7f11b6ca0908>"
            ]
          },
          "metadata": {
            "tags": []
          },
          "execution_count": 78
        },
        {
          "output_type": "display_data",
          "data": {
            "image/png": "[encoded data removed]",
            "text/plain": [
              "<Figure size 302.4x158.4 with 9 Axes>"
            ]
          },
          "metadata": {
            "tags": [],
            "needs_background": "light"
          }
        }
      ]
    },
    {
      "cell_type": "markdown",
      "metadata": {
        "id": "sloEik5a5Qwu"
      },
      "source": [
        "You may study `DeepFool` and `CW` in more detail. See this reading list (ref: https://github.com/gongzhitaao/tensorflow-adversarial)\n",
        "* Moment iterative attack https://arxiv.org/abs/1710.06081\n",
        "* Virtual adversarial https://arxiv.org/abs/1507.00677\n",
        "* CarliniWagner (CW) https://arxiv.org/abs/1608.04644\n",
        "* Elastic net https://arxiv.org/abs/1709.04114\n",
        "* MadryEtAl https://arxiv.org/abs/1706.06083\n",
        "* Fast feature https://arxiv.org/abs/1511.05122\n",
        "* Houdini https://arxiv.org/abs/1707.05373"
      ]
    },
    {
      "cell_type": "markdown",
      "metadata": {
        "id": "OJwrE85a5Qwu"
      },
      "source": [
        "A potential final project is to explain and compare these algorithms, e.g., on larger datasets like CIFAR10."
      ]
    },
    {
      "cell_type": "markdown",
      "metadata": {
        "id": "y_s4yKiB5Qwu"
      },
      "source": [
        "Another is to study/implement the winning attack and defense methods https://github.com/gongzhitaao/tensorflow-adversarial"
      ]
    }
  ]
}